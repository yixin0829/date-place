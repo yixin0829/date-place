{
 "cells": [
  {
   "cell_type": "code",
   "execution_count": 6,
   "metadata": {},
   "outputs": [
    {
     "name": "stdout",
     "output_type": "stream",
     "text": [
      "0x89d4cbd4c3e1dc4b:0xd1240e434a0e8ac4\n"
     ]
    }
   ],
   "source": [
    "import json\n",
    "\n",
    "with open('the-butcher-chef.json') as json_file:\n",
    "    reviews = json.load(json_file)\n",
    "print(reviews['search_parameters']['data_id'])"
   ]
  }
 ],
 "metadata": {
  "kernelspec": {
   "display_name": "Python 3.10.4 ('date-place-env')",
   "language": "python",
   "name": "python3"
  },
  "language_info": {
   "codemirror_mode": {
    "name": "ipython",
    "version": 3
   },
   "file_extension": ".py",
   "mimetype": "text/x-python",
   "name": "python",
   "nbconvert_exporter": "python",
   "pygments_lexer": "ipython3",
   "version": "3.10.4"
  },
  "orig_nbformat": 4,
  "vscode": {
   "interpreter": {
    "hash": "195e95527db56725f0ea9ab9e93d5f299c7dde777c2bd2ccf2f79ad134f4a22b"
   }
  }
 },
 "nbformat": 4,
 "nbformat_minor": 2
}
