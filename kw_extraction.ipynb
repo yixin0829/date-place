{
 "cells": [
  {
   "cell_type": "markdown",
   "metadata": {},
   "source": [
    "# Sketch Notebook"
   ]
  },
  {
   "cell_type": "code",
   "execution_count": 3,
   "metadata": {},
   "outputs": [],
   "source": [
    "import json\n",
    "import numpy as np\n",
    "import pandas as pd\n",
    "\n",
    "# Parse the json response\n",
    "reviews = []\n",
    "ratings = []\n",
    "\n",
    "with open('./json/butcher-reviews.json') as f:\n",
    "    reviews_temp = json.load(f)\n",
    "    for review in reviews_temp:\n",
    "        reviews.append(review['snippet'])\n",
    "        ratings.append(review['rating'])"
   ]
  },
  {
   "cell_type": "code",
   "execution_count": 10,
   "metadata": {},
   "outputs": [
    {
     "name": "stdout",
     "output_type": "stream",
     "text": [
      "176\n",
      "176\n",
      "I don’t know where to begin. The staff is extremely friendly and professional. Very knowledgeable and helpful. We are not very accustomed to this kind of restaurant, and they helped us pick items and the right wine. Steaks were perfectly cooked. Sides were phenomenal. The cheesecake is to die for. Highly recommend for a special night out.\n",
      "\n",
      "Trendy and chic, incredibly decadent and lavish. Great place to celebrate a special occasion. Of course amazing steaks as you’d expect. The ceviche was amazing, and the cheesecake dessert was a work of art! Amazing cocktail options and incredible variety of bourbon. Lots of rare options that you can’t find elsewhere.\n",
      "\n",
      "Fantastic Steak and Seafood Restaurant. Service was impeccable, food was outstanding. Drinks and wine were top notch. One of the best restaurants in Toronto. It's a hidden gem in the city. Minutes away from Scotiabank Arena at Bay and Harbour Streets. Great for business meetings, date nights or out with friends. They have an outdoor patio too and a private diningroom. Make reservations ahead of time.\n",
      "\n"
     ]
    }
   ],
   "source": [
    "print(len(reviews))\n",
    "print(len(ratings))\n",
    "for i, review in enumerate(reviews):\n",
    "    if i > 2: break\n",
    "    print(review + '\\n')"
   ]
  },
  {
   "cell_type": "code",
   "execution_count": 44,
   "metadata": {},
   "outputs": [],
   "source": [
    "from turtle import distance\n",
    "from sklearn.feature_extraction.text import CountVectorizer\n",
    "from sentence_transformers import SentenceTransformer\n",
    "from sklearn.metrics.pairwise import cosine_similarity\n",
    "\n",
    "n_gram_range = (1, 1)\n",
    "stop_words = \"english\"\n",
    "\n",
    "# Extract candidate words/phrases\n",
    "count = CountVectorizer(ngram_range=n_gram_range, stop_words=stop_words).fit(reviews)\n",
    "candidates = count.get_feature_names_out()\n",
    "custom_kws = ['quite', 'intimate', 'dim lighting'] # cutom kws can be passed from FE in the future\n",
    "\n",
    "# Next, we convert both the reviews as well as the candidate keywords/keyphrases to numerical data using pre-trained BERT\n",
    "model = SentenceTransformer('distilbert-base-nli-mean-tokens')\n",
    "review_embeddings = model.encode(reviews)\n",
    "candidate_embeddings = model.encode(candidates)"
   ]
  },
  {
   "cell_type": "code",
   "execution_count": 45,
   "metadata": {},
   "outputs": [
    {
     "name": "stdout",
     "output_type": "stream",
     "text": [
      "mean_distances shape: (1264,)\n"
     ]
    }
   ],
   "source": [
    "# Use cosine similarity to compare candidate embeddings with all review embeddings (vectorized)\n",
    "top_n = 10\n",
    "comparison = {} # kw: mean similarity\n",
    "distances = cosine_similarity(candidate_embeddings, review_embeddings) # return kernel matrixndarray of shape (n_samples_X, n_samples_Y)\n",
    "\n",
    "# Compute the mean similarity for each candidate kw (vectorized)\n",
    "mean_distances = np.mean(distances, axis=1)\n",
    "# print(f'mean_distances shape: {mean_distances.shape}')\n",
    "\n",
    "keywords = [candidates[index] for index in mean_distances.argsort()[-top_n:]]"
   ]
  },
  {
   "cell_type": "code",
   "execution_count": null,
   "metadata": {},
   "outputs": [],
   "source": [
    "# Diversification of returned KWs result"
   ]
  },
  {
   "cell_type": "code",
   "execution_count": null,
   "metadata": {},
   "outputs": [],
   "source": [
    "# Adding custom keys from FE to the final extracted KWs list\n",
    "for kw in custom_kws:\n",
    "    if kw not in keywords:\n",
    "        np.append(keywords, kw)\n",
    "\n",
    "# Iteractive through concated reviews to get keywords count and store in a dict\n",
    "kw_cnt = {}\n"
   ]
  },
  {
   "cell_type": "code",
   "execution_count": 46,
   "metadata": {},
   "outputs": [
    {
     "name": "stdout",
     "output_type": "stream",
     "text": [
      "(1264, 768)\n",
      "(176, 768)\n",
      "['chef', 'appetizers', 'dinner', 'deliciousness', 'culinary', 'chefs', 'dinners', 'flavoursome', 'flavorful', 'tasty']\n"
     ]
    }
   ],
   "source": [
    "# print(len(candidates))\n",
    "# print(candidates[:100])\n",
    "print(candidate_embeddings.shape)\n",
    "print(review_embeddings.shape)\n",
    "print(keywords)"
   ]
  },
  {
   "cell_type": "code",
   "execution_count": null,
   "metadata": {},
   "outputs": [],
   "source": []
  }
 ],
 "metadata": {
  "kernelspec": {
   "display_name": "Python 3.10.4 ('date-place-env')",
   "language": "python",
   "name": "python3"
  },
  "language_info": {
   "codemirror_mode": {
    "name": "ipython",
    "version": 3
   },
   "file_extension": ".py",
   "mimetype": "text/x-python",
   "name": "python",
   "nbconvert_exporter": "python",
   "pygments_lexer": "ipython3",
   "version": "3.10.4"
  },
  "orig_nbformat": 4,
  "vscode": {
   "interpreter": {
    "hash": "195e95527db56725f0ea9ab9e93d5f299c7dde777c2bd2ccf2f79ad134f4a22b"
   }
  }
 },
 "nbformat": 4,
 "nbformat_minor": 2
}
